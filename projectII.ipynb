{
 "cells": [
  {
   "cell_type": "code",
   "execution_count": 29,
   "metadata": {},
   "outputs": [
    {
     "data": {
      "text/html": [
       "<style>.container { width:95% !important; }</style>"
      ],
      "text/plain": [
       "<IPython.core.display.HTML object>"
      ]
     },
     "metadata": {},
     "output_type": "display_data"
    }
   ],
   "source": [
    "from IPython.core.display import display, HTML\n",
    "display(HTML(\"<style>.container { width:95% !important; }</style>\"))"
   ]
  },
  {
   "cell_type": "code",
   "execution_count": 30,
   "metadata": {},
   "outputs": [],
   "source": [
    "# Import the necessary libraries\n",
    "import matplotlib.pyplot as plt\n",
    "import pandas as pd\n",
    "import tensorflow as tf\n",
    "from tensorflow import keras\n",
    "from sklearn.model_selection import train_test_split\n",
    "from keras import models\n",
    "from keras import layers\n",
    "from keras import backend\n",
    "import numpy"
   ]
  },
  {
   "cell_type": "code",
   "execution_count": 31,
   "metadata": {},
   "outputs": [
    {
     "data": {
      "text/html": [
       "<div>\n",
       "<style scoped>\n",
       "    .dataframe tbody tr th:only-of-type {\n",
       "        vertical-align: middle;\n",
       "    }\n",
       "\n",
       "    .dataframe tbody tr th {\n",
       "        vertical-align: top;\n",
       "    }\n",
       "\n",
       "    .dataframe thead th {\n",
       "        text-align: right;\n",
       "    }\n",
       "</style>\n",
       "<table border=\"1\" class=\"dataframe\">\n",
       "  <thead>\n",
       "    <tr style=\"text-align: right;\">\n",
       "      <th></th>\n",
       "      <th>Facility Name</th>\n",
       "      <th>Facility ID</th>\n",
       "      <th>State</th>\n",
       "      <th>Measure Name</th>\n",
       "      <th>Number of Discharges</th>\n",
       "      <th>Footnote</th>\n",
       "      <th>Excess Readmission Ratio</th>\n",
       "      <th>Predicted Readmission Rate</th>\n",
       "      <th>Expected Readmission Rate</th>\n",
       "      <th>Number of Readmissions</th>\n",
       "      <th>Start Date</th>\n",
       "      <th>End Date</th>\n",
       "    </tr>\n",
       "  </thead>\n",
       "  <tbody>\n",
       "    <tr>\n",
       "      <th>0</th>\n",
       "      <td>BYRD REGIONAL HOSPITAL</td>\n",
       "      <td>190164</td>\n",
       "      <td>LA</td>\n",
       "      <td>READM_30_AMI_HRRP</td>\n",
       "      <td>Not Available</td>\n",
       "      <td>1.0</td>\n",
       "      <td>Not Available</td>\n",
       "      <td>Not Available</td>\n",
       "      <td>Not Available</td>\n",
       "      <td>Not Available</td>\n",
       "      <td>7/1/2014</td>\n",
       "      <td>6/30/2017</td>\n",
       "    </tr>\n",
       "    <tr>\n",
       "      <th>1</th>\n",
       "      <td>BYRD REGIONAL HOSPITAL</td>\n",
       "      <td>190164</td>\n",
       "      <td>LA</td>\n",
       "      <td>READM_30_CABG_HRRP</td>\n",
       "      <td>Not Available</td>\n",
       "      <td>1.0</td>\n",
       "      <td>Not Available</td>\n",
       "      <td>Not Available</td>\n",
       "      <td>Not Available</td>\n",
       "      <td>Not Available</td>\n",
       "      <td>7/1/2014</td>\n",
       "      <td>6/30/2017</td>\n",
       "    </tr>\n",
       "    <tr>\n",
       "      <th>2</th>\n",
       "      <td>BYRD REGIONAL HOSPITAL</td>\n",
       "      <td>190164</td>\n",
       "      <td>LA</td>\n",
       "      <td>READM_30_COPD_HRRP</td>\n",
       "      <td>217</td>\n",
       "      <td>NaN</td>\n",
       "      <td>1.0195</td>\n",
       "      <td>20.9722</td>\n",
       "      <td>20.5712</td>\n",
       "      <td>47</td>\n",
       "      <td>7/1/2014</td>\n",
       "      <td>6/30/2017</td>\n",
       "    </tr>\n",
       "    <tr>\n",
       "      <th>3</th>\n",
       "      <td>BYRD REGIONAL HOSPITAL</td>\n",
       "      <td>190164</td>\n",
       "      <td>LA</td>\n",
       "      <td>READM_30_HF_HRRP</td>\n",
       "      <td>259</td>\n",
       "      <td>NaN</td>\n",
       "      <td>1.0773</td>\n",
       "      <td>23.9788</td>\n",
       "      <td>22.2578</td>\n",
       "      <td>67</td>\n",
       "      <td>7/1/2014</td>\n",
       "      <td>6/30/2017</td>\n",
       "    </tr>\n",
       "    <tr>\n",
       "      <th>4</th>\n",
       "      <td>BYRD REGIONAL HOSPITAL</td>\n",
       "      <td>190164</td>\n",
       "      <td>LA</td>\n",
       "      <td>READM_30_HIP_KNEE_HRRP</td>\n",
       "      <td>Not Available</td>\n",
       "      <td>1.0</td>\n",
       "      <td>Not Available</td>\n",
       "      <td>Not Available</td>\n",
       "      <td>Not Available</td>\n",
       "      <td>Not Available</td>\n",
       "      <td>7/1/2014</td>\n",
       "      <td>6/30/2017</td>\n",
       "    </tr>\n",
       "  </tbody>\n",
       "</table>\n",
       "</div>"
      ],
      "text/plain": [
       "            Facility Name  Facility ID State            Measure Name  \\\n",
       "0  BYRD REGIONAL HOSPITAL       190164    LA       READM_30_AMI_HRRP   \n",
       "1  BYRD REGIONAL HOSPITAL       190164    LA      READM_30_CABG_HRRP   \n",
       "2  BYRD REGIONAL HOSPITAL       190164    LA      READM_30_COPD_HRRP   \n",
       "3  BYRD REGIONAL HOSPITAL       190164    LA        READM_30_HF_HRRP   \n",
       "4  BYRD REGIONAL HOSPITAL       190164    LA  READM_30_HIP_KNEE_HRRP   \n",
       "\n",
       "  Number of Discharges  Footnote Excess Readmission Ratio  \\\n",
       "0        Not Available       1.0            Not Available   \n",
       "1        Not Available       1.0            Not Available   \n",
       "2                  217       NaN                   1.0195   \n",
       "3                  259       NaN                   1.0773   \n",
       "4        Not Available       1.0            Not Available   \n",
       "\n",
       "  Predicted Readmission Rate Expected Readmission Rate Number of Readmissions  \\\n",
       "0              Not Available             Not Available          Not Available   \n",
       "1              Not Available             Not Available          Not Available   \n",
       "2                    20.9722                   20.5712                     47   \n",
       "3                    23.9788                   22.2578                     67   \n",
       "4              Not Available             Not Available          Not Available   \n",
       "\n",
       "  Start Date   End Date  \n",
       "0   7/1/2014  6/30/2017  \n",
       "1   7/1/2014  6/30/2017  \n",
       "2   7/1/2014  6/30/2017  \n",
       "3   7/1/2014  6/30/2017  \n",
       "4   7/1/2014  6/30/2017  "
      ]
     },
     "execution_count": 31,
     "metadata": {},
     "output_type": "execute_result"
    }
   ],
   "source": [
    "# loading data and doing some data exploration \n",
    "data = pd.read_csv('Hospital_Readmissions.csv')\n",
    "data.head()"
   ]
  },
  {
   "cell_type": "code",
   "execution_count": 32,
   "metadata": {},
   "outputs": [
    {
     "data": {
      "text/plain": [
       "(19674, 12)"
      ]
     },
     "execution_count": 32,
     "metadata": {},
     "output_type": "execute_result"
    }
   ],
   "source": [
    "# checking the dataset shape\n",
    "data.shape"
   ]
  },
  {
   "cell_type": "code",
   "execution_count": 33,
   "metadata": {},
   "outputs": [
    {
     "data": {
      "text/plain": [
       "Facility Name                  object\n",
       "Facility ID                     int64\n",
       "State                          object\n",
       "Measure Name                   object\n",
       "Number of Discharges           object\n",
       "Footnote                      float64\n",
       "Excess Readmission Ratio       object\n",
       "Predicted Readmission Rate     object\n",
       "Expected Readmission Rate      object\n",
       "Number of Readmissions         object\n",
       "Start Date                     object\n",
       "End Date                       object\n",
       "dtype: object"
      ]
     },
     "execution_count": 33,
     "metadata": {},
     "output_type": "execute_result"
    }
   ],
   "source": [
    "# checking the data type \n",
    "data.dtypes"
   ]
  },
  {
   "cell_type": "code",
   "execution_count": 34,
   "metadata": {},
   "outputs": [
    {
     "name": "stdout",
     "output_type": "stream",
     "text": [
      "Facility Name 0\n",
      "State 0\n",
      "Measure Name 0\n",
      "Number of Discharges 8019\n",
      "Excess Readmission Ratio 5394\n",
      "Predicted Readmission Rate 5394\n",
      "Expected Readmission Rate 5394\n",
      "Number of Readmissions 8142\n",
      "Start Date 0\n",
      "End Date 0\n"
     ]
    }
   ],
   "source": [
    "# checking for missing data\n",
    "# missing values are respesented as 'not available'\n",
    "for col in data.columns:\n",
    "    if data[col].dtype == object:\n",
    "        print(col, data[col][data[col] == 'Not Available'].count())"
   ]
  },
  {
   "cell_type": "code",
   "execution_count": 35,
   "metadata": {},
   "outputs": [
    {
     "data": {
      "text/html": [
       "<div>\n",
       "<style scoped>\n",
       "    .dataframe tbody tr th:only-of-type {\n",
       "        vertical-align: middle;\n",
       "    }\n",
       "\n",
       "    .dataframe tbody tr th {\n",
       "        vertical-align: top;\n",
       "    }\n",
       "\n",
       "    .dataframe thead th {\n",
       "        text-align: right;\n",
       "    }\n",
       "</style>\n",
       "<table border=\"1\" class=\"dataframe\">\n",
       "  <thead>\n",
       "    <tr style=\"text-align: right;\">\n",
       "      <th></th>\n",
       "      <th>Facility Name</th>\n",
       "      <th>Facility ID</th>\n",
       "      <th>State</th>\n",
       "      <th>Measure Name</th>\n",
       "      <th>Number of Discharges</th>\n",
       "      <th>Footnote</th>\n",
       "      <th>Excess Readmission Ratio</th>\n",
       "      <th>Predicted Readmission Rate</th>\n",
       "      <th>Expected Readmission Rate</th>\n",
       "      <th>Number of Readmissions</th>\n",
       "      <th>Start Date</th>\n",
       "      <th>End Date</th>\n",
       "    </tr>\n",
       "  </thead>\n",
       "  <tbody>\n",
       "    <tr>\n",
       "      <th>0</th>\n",
       "      <td>BYRD REGIONAL HOSPITAL</td>\n",
       "      <td>190164</td>\n",
       "      <td>LA</td>\n",
       "      <td>READM_30_AMI_HRRP</td>\n",
       "      <td>NaN</td>\n",
       "      <td>1.0</td>\n",
       "      <td>NaN</td>\n",
       "      <td>NaN</td>\n",
       "      <td>NaN</td>\n",
       "      <td>NaN</td>\n",
       "      <td>7/1/2014</td>\n",
       "      <td>6/30/2017</td>\n",
       "    </tr>\n",
       "    <tr>\n",
       "      <th>1</th>\n",
       "      <td>BYRD REGIONAL HOSPITAL</td>\n",
       "      <td>190164</td>\n",
       "      <td>LA</td>\n",
       "      <td>READM_30_CABG_HRRP</td>\n",
       "      <td>NaN</td>\n",
       "      <td>1.0</td>\n",
       "      <td>NaN</td>\n",
       "      <td>NaN</td>\n",
       "      <td>NaN</td>\n",
       "      <td>NaN</td>\n",
       "      <td>7/1/2014</td>\n",
       "      <td>6/30/2017</td>\n",
       "    </tr>\n",
       "    <tr>\n",
       "      <th>2</th>\n",
       "      <td>BYRD REGIONAL HOSPITAL</td>\n",
       "      <td>190164</td>\n",
       "      <td>LA</td>\n",
       "      <td>READM_30_COPD_HRRP</td>\n",
       "      <td>217</td>\n",
       "      <td>NaN</td>\n",
       "      <td>1.0195</td>\n",
       "      <td>20.9722</td>\n",
       "      <td>20.5712</td>\n",
       "      <td>47</td>\n",
       "      <td>7/1/2014</td>\n",
       "      <td>6/30/2017</td>\n",
       "    </tr>\n",
       "    <tr>\n",
       "      <th>3</th>\n",
       "      <td>BYRD REGIONAL HOSPITAL</td>\n",
       "      <td>190164</td>\n",
       "      <td>LA</td>\n",
       "      <td>READM_30_HF_HRRP</td>\n",
       "      <td>259</td>\n",
       "      <td>NaN</td>\n",
       "      <td>1.0773</td>\n",
       "      <td>23.9788</td>\n",
       "      <td>22.2578</td>\n",
       "      <td>67</td>\n",
       "      <td>7/1/2014</td>\n",
       "      <td>6/30/2017</td>\n",
       "    </tr>\n",
       "    <tr>\n",
       "      <th>4</th>\n",
       "      <td>BYRD REGIONAL HOSPITAL</td>\n",
       "      <td>190164</td>\n",
       "      <td>LA</td>\n",
       "      <td>READM_30_HIP_KNEE_HRRP</td>\n",
       "      <td>NaN</td>\n",
       "      <td>1.0</td>\n",
       "      <td>NaN</td>\n",
       "      <td>NaN</td>\n",
       "      <td>NaN</td>\n",
       "      <td>NaN</td>\n",
       "      <td>7/1/2014</td>\n",
       "      <td>6/30/2017</td>\n",
       "    </tr>\n",
       "  </tbody>\n",
       "</table>\n",
       "</div>"
      ],
      "text/plain": [
       "            Facility Name  Facility ID State            Measure Name  \\\n",
       "0  BYRD REGIONAL HOSPITAL       190164    LA       READM_30_AMI_HRRP   \n",
       "1  BYRD REGIONAL HOSPITAL       190164    LA      READM_30_CABG_HRRP   \n",
       "2  BYRD REGIONAL HOSPITAL       190164    LA      READM_30_COPD_HRRP   \n",
       "3  BYRD REGIONAL HOSPITAL       190164    LA        READM_30_HF_HRRP   \n",
       "4  BYRD REGIONAL HOSPITAL       190164    LA  READM_30_HIP_KNEE_HRRP   \n",
       "\n",
       "  Number of Discharges  Footnote Excess Readmission Ratio  \\\n",
       "0                  NaN       1.0                      NaN   \n",
       "1                  NaN       1.0                      NaN   \n",
       "2                  217       NaN                   1.0195   \n",
       "3                  259       NaN                   1.0773   \n",
       "4                  NaN       1.0                      NaN   \n",
       "\n",
       "  Predicted Readmission Rate Expected Readmission Rate Number of Readmissions  \\\n",
       "0                        NaN                       NaN                    NaN   \n",
       "1                        NaN                       NaN                    NaN   \n",
       "2                    20.9722                   20.5712                     47   \n",
       "3                    23.9788                   22.2578                     67   \n",
       "4                        NaN                       NaN                    NaN   \n",
       "\n",
       "  Start Date   End Date  \n",
       "0   7/1/2014  6/30/2017  \n",
       "1   7/1/2014  6/30/2017  \n",
       "2   7/1/2014  6/30/2017  \n",
       "3   7/1/2014  6/30/2017  \n",
       "4   7/1/2014  6/30/2017  "
      ]
     },
     "execution_count": 35,
     "metadata": {},
     "output_type": "execute_result"
    }
   ],
   "source": [
    "# dropping missing values\n",
    "import numpy\n",
    "# marking 'not available' as NaN\n",
    "data[['Number of Discharges','Excess Readmission Ratio','Predicted Readmission Rate',\n",
    "      'Expected Readmission Rate','Number of Readmissions']] = data[['Number of Discharges','Excess Readmission Ratio','Predicted Readmission Rate',\n",
    "      'Expected Readmission Rate','Number of Readmissions']].replace('Not Available', numpy.NaN)\n",
    "data.head()"
   ]
  },
  {
   "cell_type": "markdown",
   "metadata": {},
   "source": [
    "* After converting the missing values (not available) to NaN the next step was to remove missing values from the dataset as shown below"
   ]
  },
  {
   "cell_type": "code",
   "execution_count": 36,
   "metadata": {},
   "outputs": [
    {
     "data": {
      "text/plain": [
       "Facility Name                     0\n",
       "Facility ID                       0\n",
       "State                             0\n",
       "Measure Name                      0\n",
       "Number of Discharges           8019\n",
       "Footnote                      11517\n",
       "Excess Readmission Ratio       5394\n",
       "Predicted Readmission Rate     5394\n",
       "Expected Readmission Rate      5394\n",
       "Number of Readmissions         8142\n",
       "Start Date                        0\n",
       "End Date                          0\n",
       "dtype: int64"
      ]
     },
     "execution_count": 36,
     "metadata": {},
     "output_type": "execute_result"
    }
   ],
   "source": [
    "# first check for missing values\n",
    "data.isna().sum()"
   ]
  },
  {
   "cell_type": "code",
   "execution_count": 37,
   "metadata": {},
   "outputs": [
    {
     "data": {
      "text/plain": [
       "(15, 12)"
      ]
     },
     "execution_count": 37,
     "metadata": {},
     "output_type": "execute_result"
    }
   ],
   "source": [
    "# removing missing values and checking the confirming the test was successful\n",
    "data = data.dropna()\n",
    "data.shape"
   ]
  },
  {
   "cell_type": "code",
   "execution_count": 38,
   "metadata": {},
   "outputs": [
    {
     "data": {
      "text/html": [
       "<div>\n",
       "<style scoped>\n",
       "    .dataframe tbody tr th:only-of-type {\n",
       "        vertical-align: middle;\n",
       "    }\n",
       "\n",
       "    .dataframe tbody tr th {\n",
       "        vertical-align: top;\n",
       "    }\n",
       "\n",
       "    .dataframe thead th {\n",
       "        text-align: right;\n",
       "    }\n",
       "</style>\n",
       "<table border=\"1\" class=\"dataframe\">\n",
       "  <thead>\n",
       "    <tr style=\"text-align: right;\">\n",
       "      <th></th>\n",
       "      <th>Facility Name</th>\n",
       "      <th>Facility ID</th>\n",
       "      <th>State</th>\n",
       "      <th>Measure Name</th>\n",
       "      <th>Number of Discharges</th>\n",
       "      <th>Footnote</th>\n",
       "      <th>Excess Readmission Ratio</th>\n",
       "      <th>Predicted Readmission Rate</th>\n",
       "      <th>Expected Readmission Rate</th>\n",
       "      <th>Number of Readmissions</th>\n",
       "      <th>Start Date</th>\n",
       "      <th>End Date</th>\n",
       "    </tr>\n",
       "  </thead>\n",
       "  <tbody>\n",
       "    <tr>\n",
       "      <th>11106</th>\n",
       "      <td>UNIVERSITY OF MARYLAND MEDICAL CENTER</td>\n",
       "      <td>210002</td>\n",
       "      <td>MD</td>\n",
       "      <td>READM_30_AMI_HRRP</td>\n",
       "      <td>415</td>\n",
       "      <td>23.0</td>\n",
       "      <td>0.9837</td>\n",
       "      <td>17.3611</td>\n",
       "      <td>17.6488</td>\n",
       "      <td>71</td>\n",
       "      <td>7/1/2014</td>\n",
       "      <td>6/30/2017</td>\n",
       "    </tr>\n",
       "    <tr>\n",
       "      <th>11107</th>\n",
       "      <td>UNIVERSITY OF MARYLAND MEDICAL CENTER</td>\n",
       "      <td>210002</td>\n",
       "      <td>MD</td>\n",
       "      <td>READM_30_CABG_HRRP</td>\n",
       "      <td>309</td>\n",
       "      <td>23.0</td>\n",
       "      <td>0.9758</td>\n",
       "      <td>14.1241</td>\n",
       "      <td>14.475</td>\n",
       "      <td>43</td>\n",
       "      <td>7/1/2014</td>\n",
       "      <td>6/30/2017</td>\n",
       "    </tr>\n",
       "    <tr>\n",
       "      <th>11108</th>\n",
       "      <td>UNIVERSITY OF MARYLAND MEDICAL CENTER</td>\n",
       "      <td>210002</td>\n",
       "      <td>MD</td>\n",
       "      <td>READM_30_COPD_HRRP</td>\n",
       "      <td>175</td>\n",
       "      <td>23.0</td>\n",
       "      <td>0.9475</td>\n",
       "      <td>21.2781</td>\n",
       "      <td>22.4579</td>\n",
       "      <td>33</td>\n",
       "      <td>7/1/2014</td>\n",
       "      <td>6/30/2017</td>\n",
       "    </tr>\n",
       "    <tr>\n",
       "      <th>11109</th>\n",
       "      <td>UNIVERSITY OF MARYLAND MEDICAL CENTER</td>\n",
       "      <td>210002</td>\n",
       "      <td>MD</td>\n",
       "      <td>READM_30_HF_HRRP</td>\n",
       "      <td>415</td>\n",
       "      <td>23.0</td>\n",
       "      <td>1.0461</td>\n",
       "      <td>24.5747</td>\n",
       "      <td>23.4918</td>\n",
       "      <td>105</td>\n",
       "      <td>7/1/2014</td>\n",
       "      <td>6/30/2017</td>\n",
       "    </tr>\n",
       "    <tr>\n",
       "      <th>11111</th>\n",
       "      <td>UNIVERSITY OF MARYLAND MEDICAL CENTER</td>\n",
       "      <td>210002</td>\n",
       "      <td>MD</td>\n",
       "      <td>READM_30_PN_HRRP</td>\n",
       "      <td>250</td>\n",
       "      <td>23.0</td>\n",
       "      <td>1.0443</td>\n",
       "      <td>20.5103</td>\n",
       "      <td>19.6405</td>\n",
       "      <td>54</td>\n",
       "      <td>7/1/2014</td>\n",
       "      <td>6/30/2017</td>\n",
       "    </tr>\n",
       "  </tbody>\n",
       "</table>\n",
       "</div>"
      ],
      "text/plain": [
       "                               Facility Name  Facility ID State  \\\n",
       "11106  UNIVERSITY OF MARYLAND MEDICAL CENTER       210002    MD   \n",
       "11107  UNIVERSITY OF MARYLAND MEDICAL CENTER       210002    MD   \n",
       "11108  UNIVERSITY OF MARYLAND MEDICAL CENTER       210002    MD   \n",
       "11109  UNIVERSITY OF MARYLAND MEDICAL CENTER       210002    MD   \n",
       "11111  UNIVERSITY OF MARYLAND MEDICAL CENTER       210002    MD   \n",
       "\n",
       "             Measure Name Number of Discharges  Footnote  \\\n",
       "11106   READM_30_AMI_HRRP                  415      23.0   \n",
       "11107  READM_30_CABG_HRRP                  309      23.0   \n",
       "11108  READM_30_COPD_HRRP                  175      23.0   \n",
       "11109    READM_30_HF_HRRP                  415      23.0   \n",
       "11111    READM_30_PN_HRRP                  250      23.0   \n",
       "\n",
       "      Excess Readmission Ratio Predicted Readmission Rate  \\\n",
       "11106                   0.9837                    17.3611   \n",
       "11107                   0.9758                    14.1241   \n",
       "11108                   0.9475                    21.2781   \n",
       "11109                   1.0461                    24.5747   \n",
       "11111                   1.0443                    20.5103   \n",
       "\n",
       "      Expected Readmission Rate Number of Readmissions Start Date   End Date  \n",
       "11106                   17.6488                     71   7/1/2014  6/30/2017  \n",
       "11107                    14.475                     43   7/1/2014  6/30/2017  \n",
       "11108                   22.4579                     33   7/1/2014  6/30/2017  \n",
       "11109                   23.4918                    105   7/1/2014  6/30/2017  \n",
       "11111                   19.6405                     54   7/1/2014  6/30/2017  "
      ]
     },
     "execution_count": 38,
     "metadata": {},
     "output_type": "execute_result"
    }
   ],
   "source": [
    "data.head()"
   ]
  },
  {
   "cell_type": "markdown",
   "metadata": {},
   "source": [
    "* In the following steps I removed some of the columns that I felt would not play part in the analysis using the steps below."
   ]
  },
  {
   "cell_type": "code",
   "execution_count": 40,
   "metadata": {},
   "outputs": [
    {
     "data": {
      "text/html": [
       "<div>\n",
       "<style scoped>\n",
       "    .dataframe tbody tr th:only-of-type {\n",
       "        vertical-align: middle;\n",
       "    }\n",
       "\n",
       "    .dataframe tbody tr th {\n",
       "        vertical-align: top;\n",
       "    }\n",
       "\n",
       "    .dataframe thead th {\n",
       "        text-align: right;\n",
       "    }\n",
       "</style>\n",
       "<table border=\"1\" class=\"dataframe\">\n",
       "  <thead>\n",
       "    <tr style=\"text-align: right;\">\n",
       "      <th></th>\n",
       "      <th>Number of Discharges</th>\n",
       "      <th>Footnote</th>\n",
       "      <th>Excess Readmission Ratio</th>\n",
       "      <th>Predicted Readmission Rate</th>\n",
       "      <th>Expected Readmission Rate</th>\n",
       "      <th>Number of Readmissions</th>\n",
       "    </tr>\n",
       "  </thead>\n",
       "  <tbody>\n",
       "    <tr>\n",
       "      <th>11106</th>\n",
       "      <td>415</td>\n",
       "      <td>23.0</td>\n",
       "      <td>0.9837</td>\n",
       "      <td>17.3611</td>\n",
       "      <td>17.6488</td>\n",
       "      <td>71</td>\n",
       "    </tr>\n",
       "    <tr>\n",
       "      <th>11107</th>\n",
       "      <td>309</td>\n",
       "      <td>23.0</td>\n",
       "      <td>0.9758</td>\n",
       "      <td>14.1241</td>\n",
       "      <td>14.475</td>\n",
       "      <td>43</td>\n",
       "    </tr>\n",
       "    <tr>\n",
       "      <th>11108</th>\n",
       "      <td>175</td>\n",
       "      <td>23.0</td>\n",
       "      <td>0.9475</td>\n",
       "      <td>21.2781</td>\n",
       "      <td>22.4579</td>\n",
       "      <td>33</td>\n",
       "    </tr>\n",
       "    <tr>\n",
       "      <th>11109</th>\n",
       "      <td>415</td>\n",
       "      <td>23.0</td>\n",
       "      <td>1.0461</td>\n",
       "      <td>24.5747</td>\n",
       "      <td>23.4918</td>\n",
       "      <td>105</td>\n",
       "    </tr>\n",
       "    <tr>\n",
       "      <th>11111</th>\n",
       "      <td>250</td>\n",
       "      <td>23.0</td>\n",
       "      <td>1.0443</td>\n",
       "      <td>20.5103</td>\n",
       "      <td>19.6405</td>\n",
       "      <td>54</td>\n",
       "    </tr>\n",
       "  </tbody>\n",
       "</table>\n",
       "</div>"
      ],
      "text/plain": [
       "      Number of Discharges  Footnote Excess Readmission Ratio  \\\n",
       "11106                  415      23.0                   0.9837   \n",
       "11107                  309      23.0                   0.9758   \n",
       "11108                  175      23.0                   0.9475   \n",
       "11109                  415      23.0                   1.0461   \n",
       "11111                  250      23.0                   1.0443   \n",
       "\n",
       "      Predicted Readmission Rate Expected Readmission Rate  \\\n",
       "11106                    17.3611                   17.6488   \n",
       "11107                    14.1241                    14.475   \n",
       "11108                    21.2781                   22.4579   \n",
       "11109                    24.5747                   23.4918   \n",
       "11111                    20.5103                   19.6405   \n",
       "\n",
       "      Number of Readmissions  \n",
       "11106                     71  \n",
       "11107                     43  \n",
       "11108                     33  \n",
       "11109                    105  \n",
       "11111                     54  "
      ]
     },
     "execution_count": 40,
     "metadata": {},
     "output_type": "execute_result"
    }
   ],
   "source": [
    "data_modified = data.drop(['Facility Name','Facility ID', 'Measure Name','State','Start Date', 'End Date'], axis = 1)\n",
    "data_modified.head()"
   ]
  },
  {
   "cell_type": "markdown",
   "metadata": {},
   "source": [
    "Now that I have the data of interest for the analysis, next step was to spit the data into y targets and remove the target data from the dataset. I this case I am predicting readmission numbers; hence, I will remove the number of readmission from the dataset and train the dataset to predict the number of readmissions."
   ]
  },
  {
   "cell_type": "code",
   "execution_count": 41,
   "metadata": {},
   "outputs": [
    {
     "name": "stdout",
     "output_type": "stream",
     "text": [
      "11106     71\n",
      "11107     43\n",
      "11108     33\n",
      "11109    105\n",
      "11111     54\n",
      "Name: Number of Readmissions, dtype: object\n",
      "      Number of Discharges  Footnote Excess Readmission Ratio  \\\n",
      "11106                  415      23.0                   0.9837   \n",
      "11107                  309      23.0                   0.9758   \n",
      "11108                  175      23.0                   0.9475   \n",
      "11109                  415      23.0                   1.0461   \n",
      "11111                  250      23.0                   1.0443   \n",
      "\n",
      "      Predicted Readmission Rate Expected Readmission Rate  \n",
      "11106                    17.3611                   17.6488  \n",
      "11107                    14.1241                    14.475  \n",
      "11108                    21.2781                   22.4579  \n",
      "11109                    24.5747                   23.4918  \n",
      "11111                    20.5103                   19.6405  \n"
     ]
    }
   ],
   "source": [
    "y = data_modified['Number of Readmissions']\n",
    "data_modified = data_modified.drop(['Number of Readmissions'], axis = 1)\n",
    "print(y.head())\n",
    "print(data_modified.head())"
   ]
  },
  {
   "cell_type": "markdown",
   "metadata": {},
   "source": [
    "* The next step was to split the dataset into training and test data(x_train, x_test, y_train, and y_test). I am using 80% training and 20% for the dataset. After splitting the dataset the next step was to normalize the data."
   ]
  },
  {
   "cell_type": "code",
   "execution_count": 42,
   "metadata": {},
   "outputs": [],
   "source": [
    "# splittin the dataset into training and test sets\n",
    "x_train, x_test, y_train, y_test = train_test_split(data_modified, y, test_size = 0.2, random_state = 42)"
   ]
  },
  {
   "cell_type": "markdown",
   "metadata": {},
   "source": [
    "* after creating normalizing the dataset, the next step was to create the neural network model to be used in the prediction"
   ]
  },
  {
   "cell_type": "code",
   "execution_count": 51,
   "metadata": {},
   "outputs": [],
   "source": [
    "# building a sequential neural network\n",
    "backend.clear_session()\n",
    "model = models.Sequential()\n",
    "model.add(layers.Dense(64, activation = 'relu', input_shape = (x_train.shape[1],)))\n",
    "model.add(layers.Dense(62, activation = 'relu'))\n",
    "model.add(layers.Dense(1))"
   ]
  },
  {
   "cell_type": "code",
   "execution_count": 52,
   "metadata": {},
   "outputs": [],
   "source": [
    "# next step was to compile the dataset\n",
    "model.compile(optimizer = 'adam', loss  = 'mse', metrics=['mae'])"
   ]
  },
  {
   "cell_type": "code",
   "execution_count": 56,
   "metadata": {},
   "outputs": [
    {
     "name": "stdout",
     "output_type": "stream",
     "text": [
      "      val_loss   val_mae       loss       mae\n",
      "495  77.833199  7.748985  11.897402  2.967342\n",
      "496  77.775932  7.746447  11.894379  2.967342\n",
      "497  77.775574  7.746674  11.891315  2.966644\n",
      "498  77.760307  7.746165  11.888317  2.966351\n",
      "499  77.721672  7.744537  11.885366  2.965954\n"
     ]
    }
   ],
   "source": [
    "# this next step is to fit the dataset using 1000 epochs\n",
    "history = model.fit(x_train,\n",
    "                   y_train,\n",
    "                   epochs = 500,\n",
    "                   batch_size=100,\n",
    "                   validation_split=0.2,\n",
    "                   verbose = 0)\n",
    "hist = pd.DataFrame(history.history)\n",
    "print(hist.tail())"
   ]
  },
  {
   "cell_type": "markdown",
   "metadata": {},
   "source": [
    "*With the epochs already established, the next step was to plot the loss and MAE vs epochs as below"
   ]
  },
  {
   "cell_type": "code",
   "execution_count": 59,
   "metadata": {},
   "outputs": [],
   "source": [
    "history_dict = history.history\n",
    "loss_values = history_dict['loss']\n",
    "val_loss_values = history_dict['val_loss']\n",
    "acc_values = history_dict['mae']\n",
    "val_acc_values = history_dict['val_mae']\n",
    "epochs = range(1, len(history_dict['mae']) + 1)"
   ]
  },
  {
   "cell_type": "code",
   "execution_count": 60,
   "metadata": {},
   "outputs": [
    {
     "data": {
      "image/png": "[encoded data removed]",
      "text/plain": [
       "<Figure size 432x288 with 1 Axes>"
      ]
     },
     "metadata": {
      "needs_background": "light"
     },
     "output_type": "display_data"
    }
   ],
   "source": [
    "# validation vs training loss epochs\n",
    "plt.plot(epochs, loss_values, 'r', label = 'Training loss')\n",
    "plt.plot(epochs, val_loss_values, 'b', label = 'Validation loss')\n",
    "plt.title('Training and validation loss')\n",
    "plt.xlabel('Epochs')\n",
    "plt.ylabel('Loss')\n",
    "plt.legend()\n",
    "plt.show()"
   ]
  },
  {
   "cell_type": "code",
   "execution_count": 61,
   "metadata": {},
   "outputs": [
    {
     "name": "stdout",
     "output_type": "stream",
     "text": [
      "3/3 [==============================] - 0s 333us/step\n",
      "['loss', 'mae']\n",
      "[51.8372802734375, 6.9597320556640625]\n"
     ]
    }
   ],
   "source": [
    "# evaluating the model performance \n",
    "results = model.evaluate(x_test, y_test)\n",
    "print(model.metrics_names)\n",
    "print(results)"
   ]
  }
 ],
 "metadata": {
  "kernelspec": {
   "display_name": "Python 3",
   "language": "python",
   "name": "python3"
  },
  "language_info": {
   "codemirror_mode": {
    "name": "ipython",
    "version": 3
   },
   "file_extension": ".py",
   "mimetype": "text/x-python",
   "name": "python",
   "nbconvert_exporter": "python",
   "pygments_lexer": "ipython3",
   "version": "3.7.4"
  }
 },
 "nbformat": 4,
 "nbformat_minor": 2
}
